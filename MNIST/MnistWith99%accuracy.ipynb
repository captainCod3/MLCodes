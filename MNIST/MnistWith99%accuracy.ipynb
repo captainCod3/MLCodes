{
 "cells": [
  {
   "cell_type": "code",
   "execution_count": 1,
   "metadata": {
    "collapsed": true
   },
   "outputs": [],
   "source": [
    "from __future__ import division, print_function, unicode_literals\n",
    "\n",
    "# Common imports\n",
    "import numpy as np\n",
    "import os\n",
    "import pandas as pd\n",
    "\n",
    "# to make this notebook's output stable across runs\n",
    "np.random.seed(42)\n",
    "\n",
    "# To plot pretty figures\n",
    "%matplotlib inline\n",
    "import matplotlib\n",
    "import matplotlib.pyplot as plt\n",
    "import seaborn as sns"
   ]
  },
  {
   "cell_type": "code",
   "execution_count": 2,
   "metadata": {
    "collapsed": true
   },
   "outputs": [],
   "source": [
    "from sklearn.svm import SVC, LinearSVC\n",
    "from sklearn.linear_model import SGDClassifier\n",
    "from sklearn.preprocessing import StandardScaler"
   ]
  },
  {
   "cell_type": "code",
   "execution_count": 3,
   "metadata": {
    "collapsed": true
   },
   "outputs": [],
   "source": [
    "#Importing the dataset\n",
    "from sklearn.datasets import fetch_mldata\n",
    "\n",
    "mnist = fetch_mldata(\"MNIST original\")\n",
    "X = mnist[\"data\"]\n",
    "y = mnist[\"target\"]\n",
    "\n",
    "X_train = X[:60000]\n",
    "y_train = y[:60000]\n",
    "X_test = X[60000:]\n",
    "y_test = y[60000:]"
   ]
  },
  {
   "cell_type": "code",
   "execution_count": 4,
   "metadata": {
    "collapsed": true
   },
   "outputs": [],
   "source": [
    "np.random.seed(42)\n",
    "#Shuffling the training dataset\n",
    "rnd_idx = np.random.permutation(60000)\n",
    "X_train = X_train[rnd_idx]\n",
    "y_train = y_train[rnd_idx]"
   ]
  },
  {
   "cell_type": "code",
   "execution_count": 5,
   "metadata": {},
   "outputs": [
    {
     "data": {
      "text/plain": [
       "LinearSVC(C=1.0, class_weight=None, dual=True, fit_intercept=True,\n",
       "     intercept_scaling=1, loss='squared_hinge', max_iter=1000,\n",
       "     multi_class='ovr', penalty='l2', random_state=42, tol=0.0001,\n",
       "     verbose=0)"
      ]
     },
     "execution_count": 5,
     "metadata": {},
     "output_type": "execute_result"
    }
   ],
   "source": [
    "#Fitting the linearSVC to the dataset\n",
    "lin_clf = LinearSVC(random_state=42)\n",
    "lin_clf.fit(X_train, y_train)"
   ]
  },
  {
   "cell_type": "code",
   "execution_count": 6,
   "metadata": {},
   "outputs": [
    {
     "data": {
      "text/plain": [
       "0.82633333333333336"
      ]
     },
     "execution_count": 6,
     "metadata": {},
     "output_type": "execute_result"
    }
   ],
   "source": [
    "#Checking the accuracy score\n",
    "from sklearn.metrics import accuracy_score\n",
    "y_pred = lin_clf.predict(X_train)\n",
    "accuracy_score(y_train, y_pred)"
   ]
  },
  {
   "cell_type": "code",
   "execution_count": 7,
   "metadata": {
    "collapsed": true
   },
   "outputs": [],
   "source": [
    "#Scaling to remove the outliers\n",
    "scaler = StandardScaler()\n",
    "X_train_scaled = scaler.fit_transform(X_train.astype(np.float32))\n",
    "X_test_scaled = scaler.transform(X_test.astype(np.float32))"
   ]
  },
  {
   "cell_type": "code",
   "execution_count": 8,
   "metadata": {},
   "outputs": [
    {
     "data": {
      "text/plain": [
       "LinearSVC(C=1.0, class_weight=None, dual=True, fit_intercept=True,\n",
       "     intercept_scaling=1, loss='squared_hinge', max_iter=1000,\n",
       "     multi_class='ovr', penalty='l2', random_state=42, tol=0.0001,\n",
       "     verbose=0)"
      ]
     },
     "execution_count": 8,
     "metadata": {},
     "output_type": "execute_result"
    }
   ],
   "source": [
    "lin_clf = LinearSVC(random_state=42)\n",
    "lin_clf.fit(X_train_scaled, y_train)"
   ]
  },
  {
   "cell_type": "code",
   "execution_count": 11,
   "metadata": {},
   "outputs": [
    {
     "data": {
      "text/plain": [
       "0.9224"
      ]
     },
     "execution_count": 11,
     "metadata": {},
     "output_type": "execute_result"
    }
   ],
   "source": [
    "y_pred = lin_clf.predict(X_train_scaled)\n",
    "accuracy_score(y_train, y_pred)"
   ]
  },
  {
   "cell_type": "code",
   "execution_count": 12,
   "metadata": {},
   "outputs": [
    {
     "data": {
      "text/plain": [
       "SVC(C=1.0, cache_size=200, class_weight=None, coef0=0.0,\n",
       "  decision_function_shape='ovr', degree=3, gamma='auto', kernel='rbf',\n",
       "  max_iter=-1, probability=False, random_state=None, shrinking=True,\n",
       "  tol=0.001, verbose=False)"
      ]
     },
     "execution_count": 12,
     "metadata": {},
     "output_type": "execute_result"
    }
   ],
   "source": [
    "svm_clf = SVC(decision_function_shape=\"ovr\")\n",
    "svm_clf.fit(X_train_scaled[:10000], y_train[:10000])"
   ]
  },
  {
   "cell_type": "code",
   "execution_count": 13,
   "metadata": {},
   "outputs": [
    {
     "data": {
      "text/plain": [
       "0.94615000000000005"
      ]
     },
     "execution_count": 13,
     "metadata": {},
     "output_type": "execute_result"
    }
   ],
   "source": [
    "y_pred = svm_clf.predict(X_train_scaled)\n",
    "accuracy_score(y_train, y_pred)"
   ]
  },
  {
   "cell_type": "code",
   "execution_count": 18,
   "metadata": {},
   "outputs": [
    {
     "name": "stdout",
     "output_type": "stream",
     "text": [
      "Fitting 3 folds for each of 10 candidates, totalling 30 fits\n",
      "[CV] C=8.57310093818, gamma=0.0284659124231 ..........................\n",
      "[CV] ........... C=8.57310093818, gamma=0.0284659124231, total=   1.5s\n",
      "[CV] C=8.57310093818, gamma=0.0284659124231 ..........................\n"
     ]
    },
    {
     "name": "stderr",
     "output_type": "stream",
     "text": [
      "[Parallel(n_jobs=1)]: Done   1 out of   1 | elapsed:    2.0s remaining:    0.0s\n"
     ]
    },
    {
     "name": "stdout",
     "output_type": "stream",
     "text": [
      "[CV] ........... C=8.57310093818, gamma=0.0284659124231, total=   1.1s\n",
      "[CV] C=8.57310093818, gamma=0.0284659124231 ..........................\n",
      "[CV] ........... C=8.57310093818, gamma=0.0284659124231, total=   1.3s\n",
      "[CV] C=6.71168895291, gamma=0.0240900860997 ..........................\n",
      "[CV] ........... C=6.71168895291, gamma=0.0240900860997, total=   1.1s\n",
      "[CV] C=6.71168895291, gamma=0.0240900860997 ..........................\n",
      "[CV] ........... C=6.71168895291, gamma=0.0240900860997, total=   1.1s\n",
      "[CV] C=6.71168895291, gamma=0.0240900860997 ..........................\n",
      "[CV] ........... C=6.71168895291, gamma=0.0240900860997, total=   1.3s\n",
      "[CV] C=1.38066683066, gamma=0.00764108097023 .........................\n",
      "[CV] .......... C=1.38066683066, gamma=0.00764108097023, total=   1.1s\n",
      "[CV] C=1.38066683066, gamma=0.00764108097023 .........................\n",
      "[CV] .......... C=1.38066683066, gamma=0.00764108097023, total=   1.1s\n",
      "[CV] C=1.38066683066, gamma=0.00764108097023 .........................\n",
      "[CV] .......... C=1.38066683066, gamma=0.00764108097023, total=   1.2s\n",
      "[CV] C=8.8586069406, gamma=0.00888059961141 ..........................\n",
      "[CV] ........... C=8.8586069406, gamma=0.00888059961141, total=   1.3s\n",
      "[CV] C=8.8586069406, gamma=0.00888059961141 ..........................\n",
      "[CV] ........... C=8.8586069406, gamma=0.00888059961141, total=   1.2s\n",
      "[CV] C=8.8586069406, gamma=0.00888059961141 ..........................\n",
      "[CV] ........... C=8.8586069406, gamma=0.00888059961141, total=   1.1s\n",
      "[CV] C=9.73504584227, gamma=0.0464810310551 ..........................\n",
      "[CV] ........... C=9.73504584227, gamma=0.0464810310551, total=   1.1s\n",
      "[CV] C=9.73504584227, gamma=0.0464810310551 ..........................\n",
      "[CV] ........... C=9.73504584227, gamma=0.0464810310551, total=   1.1s\n",
      "[CV] C=9.73504584227, gamma=0.0464810310551 ..........................\n",
      "[CV] ........... C=9.73504584227, gamma=0.0464810310551, total=   1.1s\n",
      "[CV] C=9.63446030172, gamma=0.00181967308428 .........................\n",
      "[CV] .......... C=9.63446030172, gamma=0.00181967308428, total=   0.9s\n",
      "[CV] C=9.63446030172, gamma=0.00181967308428 .........................\n",
      "[CV] .......... C=9.63446030172, gamma=0.00181967308428, total=   0.9s\n",
      "[CV] C=9.63446030172, gamma=0.00181967308428 .........................\n",
      "[CV] .......... C=9.63446030172, gamma=0.00181967308428, total=   0.9s\n",
      "[CV] C=3.44141124566, gamma=0.00114602620003 .........................\n",
      "[CV] .......... C=3.44141124566, gamma=0.00114602620003, total=   0.8s\n",
      "[CV] C=3.44141124566, gamma=0.00114602620003 .........................\n",
      "[CV] .......... C=3.44141124566, gamma=0.00114602620003, total=   0.8s\n",
      "[CV] C=3.44141124566, gamma=0.00114602620003 .........................\n",
      "[CV] .......... C=3.44141124566, gamma=0.00114602620003, total=   0.8s\n",
      "[CV] C=10.8280072686, gamma=0.00296671808344 .........................\n",
      "[CV] .......... C=10.8280072686, gamma=0.00296671808344, total=   1.0s\n",
      "[CV] C=10.8280072686, gamma=0.00296671808344 .........................\n",
      "[CV] .......... C=10.8280072686, gamma=0.00296671808344, total=   1.0s\n",
      "[CV] C=10.8280072686, gamma=0.00296671808344 .........................\n",
      "[CV] .......... C=10.8280072686, gamma=0.00296671808344, total=   1.1s\n",
      "[CV] C=4.67093334482, gamma=0.00354693226119 .........................\n",
      "[CV] .......... C=4.67093334482, gamma=0.00354693226119, total=   1.4s\n",
      "[CV] C=4.67093334482, gamma=0.00354693226119 .........................\n",
      "[CV] .......... C=4.67093334482, gamma=0.00354693226119, total=   1.1s\n",
      "[CV] C=4.67093334482, gamma=0.00354693226119 .........................\n",
      "[CV] .......... C=4.67093334482, gamma=0.00354693226119, total=   1.1s\n",
      "[CV] C=1.39793622845, gamma=0.00333055047023 .........................\n",
      "[CV] .......... C=1.39793622845, gamma=0.00333055047023, total=   1.0s\n",
      "[CV] C=1.39793622845, gamma=0.00333055047023 .........................\n",
      "[CV] .......... C=1.39793622845, gamma=0.00333055047023, total=   1.1s\n",
      "[CV] C=1.39793622845, gamma=0.00333055047023 .........................\n",
      "[CV] .......... C=1.39793622845, gamma=0.00333055047023, total=   1.0s\n"
     ]
    },
    {
     "name": "stderr",
     "output_type": "stream",
     "text": [
      "[Parallel(n_jobs=1)]: Done  30 out of  30 | elapsed:   46.6s finished\n"
     ]
    },
    {
     "data": {
      "text/plain": [
       "RandomizedSearchCV(cv=None, error_score='raise',\n",
       "          estimator=SVC(C=1.0, cache_size=200, class_weight=None, coef0=0.0,\n",
       "  decision_function_shape='ovr', degree=3, gamma='auto', kernel='rbf',\n",
       "  max_iter=-1, probability=False, random_state=None, shrinking=True,\n",
       "  tol=0.001, verbose=False),\n",
       "          fit_params=None, iid=True, n_iter=10, n_jobs=1,\n",
       "          param_distributions={'gamma': <scipy.stats._distn_infrastructure.rv_frozen object at 0x7f2d946b5ba8>, 'C': <scipy.stats._distn_infrastructure.rv_frozen object at 0x7f2d946b5b70>},\n",
       "          pre_dispatch='2*n_jobs', random_state=None, refit=True,\n",
       "          return_train_score=True, scoring=None, verbose=2)"
      ]
     },
     "execution_count": 18,
     "metadata": {},
     "output_type": "execute_result"
    }
   ],
   "source": [
    "# Now we will use randomized grid search to predict best values of hyperparameters\n",
    "from sklearn.model_selection import RandomizedSearchCV\n",
    "from scipy.stats import reciprocal, uniform\n",
    "\n",
    "param_grid = {\"gamma\": reciprocal(0.001, 0.1), \"C\": uniform(1,10)}\n",
    "rnd_search_cv = RandomizedSearchCV(svm_clf, param_grid, n_iter=10, verbose=2)\n",
    "rnd_search_cv.fit(X_train_scaled[:1000], y_train[:1000])"
   ]
  },
  {
   "cell_type": "code",
   "execution_count": 19,
   "metadata": {},
   "outputs": [
    {
     "data": {
      "text/plain": [
       "SVC(C=3.4414112456607051, cache_size=200, class_weight=None, coef0=0.0,\n",
       "  decision_function_shape='ovr', degree=3, gamma=0.0011460262000260015,\n",
       "  kernel='rbf', max_iter=-1, probability=False, random_state=None,\n",
       "  shrinking=True, tol=0.001, verbose=False)"
      ]
     },
     "execution_count": 19,
     "metadata": {},
     "output_type": "execute_result"
    }
   ],
   "source": [
    "rnd_search_cv.best_estimator_"
   ]
  },
  {
   "cell_type": "code",
   "execution_count": 20,
   "metadata": {},
   "outputs": [
    {
     "data": {
      "text/plain": [
       "0.86599999999999999"
      ]
     },
     "execution_count": 20,
     "metadata": {},
     "output_type": "execute_result"
    }
   ],
   "source": [
    "rnd_search_cv.best_score_"
   ]
  },
  {
   "cell_type": "code",
   "execution_count": 21,
   "metadata": {},
   "outputs": [
    {
     "data": {
      "text/plain": [
       "SVC(C=3.4414112456607051, cache_size=200, class_weight=None, coef0=0.0,\n",
       "  decision_function_shape='ovr', degree=3, gamma=0.0011460262000260015,\n",
       "  kernel='rbf', max_iter=-1, probability=False, random_state=None,\n",
       "  shrinking=True, tol=0.001, verbose=False)"
      ]
     },
     "execution_count": 21,
     "metadata": {},
     "output_type": "execute_result"
    }
   ],
   "source": [
    "# Choosing the best estimator\n",
    "rnd_search_cv.best_estimator_.fit(X_train_scaled, y_train)"
   ]
  },
  {
   "cell_type": "code",
   "execution_count": 23,
   "metadata": {},
   "outputs": [
    {
     "data": {
      "text/plain": [
       "0.99436666666666662"
      ]
     },
     "execution_count": 23,
     "metadata": {},
     "output_type": "execute_result"
    }
   ],
   "source": [
    "#Making the best predictions\n",
    "y_pred = rnd_search_cv.best_estimator_.predict(X_train_scaled)\n",
    "accuracy_score(y_train, y_pred)"
   ]
  },
  {
   "cell_type": "code",
   "execution_count": 26,
   "metadata": {},
   "outputs": [
    {
     "data": {
      "text/plain": [
       "0.9718"
      ]
     },
     "execution_count": 26,
     "metadata": {},
     "output_type": "execute_result"
    }
   ],
   "source": [
    "#Finally Checking the model on the test set\n",
    "y_pred = rnd_search_cv.best_estimator_.predict(X_test_scaled)\n",
    "accuracy_score(y_test, y_pred)"
   ]
  },
  {
   "cell_type": "code",
   "execution_count": null,
   "metadata": {
    "collapsed": true
   },
   "outputs": [],
   "source": []
  }
 ],
 "metadata": {
  "kernelspec": {
   "display_name": "Python 3",
   "language": "python",
   "name": "python3"
  },
  "language_info": {
   "codemirror_mode": {
    "name": "ipython",
    "version": 3
   },
   "file_extension": ".py",
   "mimetype": "text/x-python",
   "name": "python",
   "nbconvert_exporter": "python",
   "pygments_lexer": "ipython3",
   "version": "3.6.1"
  }
 },
 "nbformat": 4,
 "nbformat_minor": 2
}
